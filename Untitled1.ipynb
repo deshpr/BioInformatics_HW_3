{
 "cells": [
  {
   "cell_type": "code",
   "execution_count": null,
   "metadata": {},
   "outputs": [],
   "source": [
    "start.time <- Sys.time()\n",
    "\n",
    "geneExpressionFileName  <- 'gene_expression_n438x978.txt' \n",
    "myData <- read.table(geneExpressionFileName, sep=\"\\t\", header=T)\n",
    "dimnames(myData)[[1]] <- myData[,1]\n",
    "myData <- myData[,-1]\n",
    "myData[1:5, 1:5]\n",
    "dim(myData)\n",
    "myData[1:10,1]\n",
    "end.time <- Sys.time()\n",
    "cat(\"took time: \",end.time - start.time)"
   ]
  },
  {
   "cell_type": "code",
   "execution_count": null,
   "metadata": {},
   "outputs": [],
   "source": [
    "print(\"hi there\")"
   ]
  },
  {
   "cell_type": "code",
   "execution_count": null,
   "metadata": {},
   "outputs": [],
   "source": []
  }
 ],
 "metadata": {
  "kernelspec": {
   "display_name": "R",
   "language": "R",
   "name": "ir"
  }
 },
 "nbformat": 4,
 "nbformat_minor": 2
}
