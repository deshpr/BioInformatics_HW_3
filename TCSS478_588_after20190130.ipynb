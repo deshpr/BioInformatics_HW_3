{
 "cells": [
  {
   "cell_type": "markdown",
   "metadata": {},
   "source": [
    "# TCSS 478/588 In-class Exercise: Logistic regression"
   ]
  },
  {
   "cell_type": "markdown",
   "metadata": {},
   "source": [
    "These exercises will be used to illustrate how to perform data analyses using R.\n",
    "Alternatively, you can use R or Rstudio. \n",
    "I assume you will learn basic R commands on your own.\n",
    "\n",
    "Credit: The data and ideas behind these exercises and homeworks are from the NIH LINCS DCIC Crowdsourcing Portal and Ma’ayan Lab @ Mt Sinai, New York.\n",
    "http://www.maayanlab.net/crowdsourcing/megatask1.php\n",
    "\n",
    "The overarching goal is to predict adverse drug reactions. But we will take this task step by step. You will learn more about the meanings of these data in future lectures. For illustrative purposes in today’s class, just treat these data as numbers in a matrix."
   ]
  },
  {
   "cell_type": "markdown",
   "metadata": {},
   "source": [
    "## 1. Download and read in gene expression data (same as last week)\n",
    "Download the data “gene_expression_n438x978.txt” from canvas to your computer.  I have removed the first character (#) and an ‘ from the input file to make R happy."
   ]
  },
  {
   "cell_type": "code",
   "execution_count": 1,
   "metadata": {},
   "outputs": [
    {
     "data": {
      "text/html": [
       "'C:/Users/radeshpa/Desktop/BioInformatics/Assignment3'"
      ],
      "text/latex": [
       "'C:/Users/radeshpa/Desktop/BioInformatics/Assignment3'"
      ],
      "text/markdown": [
       "'C:/Users/radeshpa/Desktop/BioInformatics/Assignment3'"
      ],
      "text/plain": [
       "[1] \"C:/Users/radeshpa/Desktop/BioInformatics/Assignment3\""
      ]
     },
     "metadata": {},
     "output_type": "display_data"
    }
   ],
   "source": [
    "getwd()"
   ]
  },
  {
   "cell_type": "code",
   "execution_count": 2,
   "metadata": {},
   "outputs": [
    {
     "data": {
      "text/html": [
       "<table>\n",
       "<thead><tr><th></th><th scope=col>Abdominal.hernias.and.other.abdominal.wall.conditions</th><th scope=col>Abortions.and.stillbirth</th><th scope=col>Acid.base.disorders</th><th scope=col>Administration.site.reactions</th><th scope=col>Adrenal.gland.disorders</th><th scope=col>Age.related.factors</th></tr></thead>\n",
       "<tbody>\n",
       "\t<tr><th scope=row>ACETAZOLAMIDE</th><td>0</td><td>0</td><td>1</td><td>1</td><td>0</td><td>0</td></tr>\n",
       "\t<tr><th scope=row>IRBESARTAN</th><td>0</td><td>0</td><td>0</td><td>0</td><td>1</td><td>0</td></tr>\n",
       "\t<tr><th scope=row>IPRATROPIUM BROMIDE</th><td>0</td><td>0</td><td>0</td><td>0</td><td>1</td><td>0</td></tr>\n",
       "\t<tr><th scope=row>EFAVIRENZ</th><td>0</td><td>0</td><td>0</td><td>0</td><td>1</td><td>1</td></tr>\n",
       "\t<tr><th scope=row>THIAMINE</th><td>0</td><td>0</td><td>0</td><td>0</td><td>0</td><td>0</td></tr>\n",
       "</tbody>\n",
       "</table>\n"
      ],
      "text/latex": [
       "\\begin{tabular}{r|llllll}\n",
       "  & Abdominal.hernias.and.other.abdominal.wall.conditions & Abortions.and.stillbirth & Acid.base.disorders & Administration.site.reactions & Adrenal.gland.disorders & Age.related.factors\\\\\n",
       "\\hline\n",
       "\tACETAZOLAMIDE & 0 & 0 & 1 & 1 & 0 & 0\\\\\n",
       "\tIRBESARTAN & 0 & 0 & 0 & 0 & 1 & 0\\\\\n",
       "\tIPRATROPIUM BROMIDE & 0 & 0 & 0 & 0 & 1 & 0\\\\\n",
       "\tEFAVIRENZ & 0 & 0 & 0 & 0 & 1 & 1\\\\\n",
       "\tTHIAMINE & 0 & 0 & 0 & 0 & 0 & 0\\\\\n",
       "\\end{tabular}\n"
      ],
      "text/markdown": [
       "\n",
       "| <!--/--> | Abdominal.hernias.and.other.abdominal.wall.conditions | Abortions.and.stillbirth | Acid.base.disorders | Administration.site.reactions | Adrenal.gland.disorders | Age.related.factors |\n",
       "|---|---|---|---|---|---|---|\n",
       "| ACETAZOLAMIDE | 0 | 0 | 1 | 1 | 0 | 0 |\n",
       "| IRBESARTAN | 0 | 0 | 0 | 0 | 1 | 0 |\n",
       "| IPRATROPIUM BROMIDE | 0 | 0 | 0 | 0 | 1 | 0 |\n",
       "| EFAVIRENZ | 0 | 0 | 0 | 0 | 1 | 1 |\n",
       "| THIAMINE | 0 | 0 | 0 | 0 | 0 | 0 |\n",
       "\n"
      ],
      "text/plain": [
       "                    Abdominal.hernias.and.other.abdominal.wall.conditions\n",
       "ACETAZOLAMIDE       0                                                    \n",
       "IRBESARTAN          0                                                    \n",
       "IPRATROPIUM BROMIDE 0                                                    \n",
       "EFAVIRENZ           0                                                    \n",
       "THIAMINE            0                                                    \n",
       "                    Abortions.and.stillbirth Acid.base.disorders\n",
       "ACETAZOLAMIDE       0                        1                  \n",
       "IRBESARTAN          0                        0                  \n",
       "IPRATROPIUM BROMIDE 0                        0                  \n",
       "EFAVIRENZ           0                        0                  \n",
       "THIAMINE            0                        0                  \n",
       "                    Administration.site.reactions Adrenal.gland.disorders\n",
       "ACETAZOLAMIDE       1                             0                      \n",
       "IRBESARTAN          0                             1                      \n",
       "IPRATROPIUM BROMIDE 0                             1                      \n",
       "EFAVIRENZ           0                             1                      \n",
       "THIAMINE            0                             0                      \n",
       "                    Age.related.factors\n",
       "ACETAZOLAMIDE       0                  \n",
       "IRBESARTAN          0                  \n",
       "IPRATROPIUM BROMIDE 0                  \n",
       "EFAVIRENZ           1                  \n",
       "THIAMINE            0                  "
      ]
     },
     "metadata": {},
     "output_type": "display_data"
    }
   ],
   "source": [
    "my.data <- read.table (\"ADRs_HLGT_n438x232.txt\", sep=\"\\t\", header=T)\n",
    "dimnames(my.data)[[1]] <- my.data[,1]\n",
    "my.data <- my.data[, -1]\n",
    "my.data[1:5, 1:6]"
   ]
  },
  {
   "cell_type": "code",
   "execution_count": 3,
   "metadata": {},
   "outputs": [
    {
     "data": {
      "text/html": [
       "<ol class=list-inline>\n",
       "\t<li>438</li>\n",
       "\t<li>978</li>\n",
       "</ol>\n"
      ],
      "text/latex": [
       "\\begin{enumerate*}\n",
       "\\item 438\n",
       "\\item 978\n",
       "\\end{enumerate*}\n"
      ],
      "text/markdown": [
       "1. 438\n",
       "2. 978\n",
       "\n",
       "\n"
      ],
      "text/plain": [
       "[1] 438 978"
      ]
     },
     "metadata": {},
     "output_type": "display_data"
    }
   ],
   "source": [
    "dim (my.data)"
   ]
  },
  {
   "cell_type": "markdown",
   "metadata": {},
   "source": [
    "# 2. Download and read in the adverse drug reaction (0/1) data\n",
    "Download the dataset \"ADRs_HLGT_n438x232.txt\" from Canvas to your computer."
   ]
  },
  {
   "cell_type": "code",
   "execution_count": 4,
   "metadata": {},
   "outputs": [
    {
     "data": {
      "text/html": [
       "<ol class=list-inline>\n",
       "\t<li>438</li>\n",
       "\t<li>232</li>\n",
       "</ol>\n"
      ],
      "text/latex": [
       "\\begin{enumerate*}\n",
       "\\item 438\n",
       "\\item 232\n",
       "\\end{enumerate*}\n"
      ],
      "text/markdown": [
       "1. 438\n",
       "2. 232\n",
       "\n",
       "\n"
      ],
      "text/plain": [
       "[1] 438 232"
      ]
     },
     "metadata": {},
     "output_type": "display_data"
    },
    {
     "data": {
      "text/html": [
       "<table>\n",
       "<thead><tr><th></th><th scope=col>Abdominal.hernias.and.other.abdominal.wall.conditions</th><th scope=col>Abortions.and.stillbirth</th><th scope=col>Acid.base.disorders</th><th scope=col>Administration.site.reactions</th><th scope=col>Adrenal.gland.disorders</th><th scope=col>Age.related.factors</th></tr></thead>\n",
       "<tbody>\n",
       "\t<tr><th scope=row>ACETAZOLAMIDE</th><td>0</td><td>0</td><td>1</td><td>1</td><td>0</td><td>0</td></tr>\n",
       "\t<tr><th scope=row>IRBESARTAN</th><td>0</td><td>0</td><td>0</td><td>0</td><td>1</td><td>0</td></tr>\n",
       "\t<tr><th scope=row>IPRATROPIUM BROMIDE</th><td>0</td><td>0</td><td>0</td><td>0</td><td>1</td><td>0</td></tr>\n",
       "\t<tr><th scope=row>EFAVIRENZ</th><td>0</td><td>0</td><td>0</td><td>0</td><td>1</td><td>1</td></tr>\n",
       "\t<tr><th scope=row>THIAMINE</th><td>0</td><td>0</td><td>0</td><td>0</td><td>0</td><td>0</td></tr>\n",
       "</tbody>\n",
       "</table>\n"
      ],
      "text/latex": [
       "\\begin{tabular}{r|llllll}\n",
       "  & Abdominal.hernias.and.other.abdominal.wall.conditions & Abortions.and.stillbirth & Acid.base.disorders & Administration.site.reactions & Adrenal.gland.disorders & Age.related.factors\\\\\n",
       "\\hline\n",
       "\tACETAZOLAMIDE & 0 & 0 & 1 & 1 & 0 & 0\\\\\n",
       "\tIRBESARTAN & 0 & 0 & 0 & 0 & 1 & 0\\\\\n",
       "\tIPRATROPIUM BROMIDE & 0 & 0 & 0 & 0 & 1 & 0\\\\\n",
       "\tEFAVIRENZ & 0 & 0 & 0 & 0 & 1 & 1\\\\\n",
       "\tTHIAMINE & 0 & 0 & 0 & 0 & 0 & 0\\\\\n",
       "\\end{tabular}\n"
      ],
      "text/markdown": [
       "\n",
       "| <!--/--> | Abdominal.hernias.and.other.abdominal.wall.conditions | Abortions.and.stillbirth | Acid.base.disorders | Administration.site.reactions | Adrenal.gland.disorders | Age.related.factors | \n",
       "|---|---|---|---|---|\n",
       "| ACETAZOLAMIDE | 0 | 0 | 1 | 1 | 0 | 0 | \n",
       "| IRBESARTAN | 0 | 0 | 0 | 0 | 1 | 0 | \n",
       "| IPRATROPIUM BROMIDE | 0 | 0 | 0 | 0 | 1 | 0 | \n",
       "| EFAVIRENZ | 0 | 0 | 0 | 0 | 1 | 1 | \n",
       "| THIAMINE | 0 | 0 | 0 | 0 | 0 | 0 | \n",
       "\n",
       "\n"
      ],
      "text/plain": [
       "                    Abdominal.hernias.and.other.abdominal.wall.conditions\n",
       "ACETAZOLAMIDE       0                                                    \n",
       "IRBESARTAN          0                                                    \n",
       "IPRATROPIUM BROMIDE 0                                                    \n",
       "EFAVIRENZ           0                                                    \n",
       "THIAMINE            0                                                    \n",
       "                    Abortions.and.stillbirth Acid.base.disorders\n",
       "ACETAZOLAMIDE       0                        1                  \n",
       "IRBESARTAN          0                        0                  \n",
       "IPRATROPIUM BROMIDE 0                        0                  \n",
       "EFAVIRENZ           0                        0                  \n",
       "THIAMINE            0                        0                  \n",
       "                    Administration.site.reactions Adrenal.gland.disorders\n",
       "ACETAZOLAMIDE       1                             0                      \n",
       "IRBESARTAN          0                             1                      \n",
       "IPRATROPIUM BROMIDE 0                             1                      \n",
       "EFAVIRENZ           0                             1                      \n",
       "THIAMINE            0                             0                      \n",
       "                    Age.related.factors\n",
       "ACETAZOLAMIDE       0                  \n",
       "IRBESARTAN          0                  \n",
       "IPRATROPIUM BROMIDE 0                  \n",
       "EFAVIRENZ           1                  \n",
       "THIAMINE            0                  "
      ]
     },
     "metadata": {},
     "output_type": "display_data"
    }
   ],
   "source": [
    "adr.mat <- read.table (\"ADRs_HLGT_n438x232.txt\", sep=\"\\t\", header=T)\n",
    "dimnames(adr.mat)[[1]] <- adr.mat [, 1]\n",
    "adr.mat <- adr.mat[, -1]\n",
    "dim (adr.mat)\n",
    "adr.mat[1:5, 1:6]"
   ]
  },
  {
   "cell_type": "markdown",
   "metadata": {},
   "source": [
    "## 3. Your task: how would you explore this adr.mat matrix? This is a binary matrix. How sparse is this matrix?"
   ]
  },
  {
   "cell_type": "code",
   "execution_count": 5,
   "metadata": {},
   "outputs": [
    {
     "data": {
      "text/html": [
       "0.267497244528421"
      ],
      "text/latex": [
       "0.267497244528421"
      ],
      "text/markdown": [
       "0.267497244528421"
      ],
      "text/plain": [
       "[1] 0.2674972"
      ]
     },
     "metadata": {},
     "output_type": "display_data"
    }
   ],
   "source": [
    "sum (adr.mat)/(438*232)"
   ]
  },
  {
   "cell_type": "code",
   "execution_count": 6,
   "metadata": {
    "collapsed": true
   },
   "outputs": [],
   "source": [
    "# compute the number of ADR (1's) for each side effect\n",
    "num.one.each.side.effect <- apply (adr.mat, 2, sum)"
   ]
  },
  {
   "cell_type": "code",
   "execution_count": 7,
   "metadata": {},
   "outputs": [
    {
     "data": {
      "text/html": [
       "232"
      ],
      "text/latex": [
       "232"
      ],
      "text/markdown": [
       "232"
      ],
      "text/plain": [
       "[1] 232"
      ]
     },
     "metadata": {},
     "output_type": "display_data"
    }
   ],
   "source": [
    "length (num.one.each.side.effect)"
   ]
  },
  {
   "cell_type": "code",
   "execution_count": 11,
   "metadata": {},
   "outputs": [
    {
     "data": {
      "text/html": [
       "0"
      ],
      "text/latex": [
       "0"
      ],
      "text/markdown": [
       "0"
      ],
      "text/plain": [
       "[1] 0"
      ]
     },
     "metadata": {},
     "output_type": "display_data"
    },
    {
     "data": {
      "text/html": [
       "1"
      ],
      "text/latex": [
       "1"
      ],
      "text/markdown": [
       "1"
      ],
      "text/plain": [
       "[1] 1"
      ]
     },
     "metadata": {},
     "output_type": "display_data"
    },
    {
     "data": {
      "text/html": [
       "<strong>Gastrointestinal.tract.disorders.congenital:</strong> 88"
      ],
      "text/latex": [
       "\\textbf{Gastrointestinal.tract.disorders.congenital:} 88"
      ],
      "text/markdown": [
       "**Gastrointestinal.tract.disorders.congenital:** 88"
      ],
      "text/plain": [
       "Gastrointestinal.tract.disorders.congenital \n",
       "                                         88 "
      ]
     },
     "metadata": {},
     "output_type": "display_data"
    }
   ],
   "source": [
    "# want to check if there are any side effects with no ADR\n",
    "# count the number of side effects with a column sum equal to 0\n",
    "sum (num.one.each.side.effect == 0)\n",
    "# count the number of side effects with a column sum < 10\n",
    "sum (num.one.each.side.effect < 10)\n",
    "# find the index of side effects with a column sum < 10\n",
    "which (num.one.each.side.effect < 10)"
   ]
  },
  {
   "cell_type": "code",
   "execution_count": 14,
   "metadata": {},
   "outputs": [
    {
     "data": {
      "text/html": [
       "<ol class=list-inline>\n",
       "\t<li>'EFAVIRENZ'</li>\n",
       "\t<li>'DOXAZOSIN'</li>\n",
       "\t<li>'VIGABATRIN'</li>\n",
       "\t<li>'GLICLAZIDE'</li>\n",
       "\t<li>'CLOMIPHENE CITRATE'</li>\n",
       "\t<li>'MINOCYCLINE'</li>\n",
       "\t<li>'PROGESTERONE'</li>\n",
       "</ol>\n"
      ],
      "text/latex": [
       "\\begin{enumerate*}\n",
       "\\item 'EFAVIRENZ'\n",
       "\\item 'DOXAZOSIN'\n",
       "\\item 'VIGABATRIN'\n",
       "\\item 'GLICLAZIDE'\n",
       "\\item 'CLOMIPHENE CITRATE'\n",
       "\\item 'MINOCYCLINE'\n",
       "\\item 'PROGESTERONE'\n",
       "\\end{enumerate*}\n"
      ],
      "text/markdown": [
       "1. 'EFAVIRENZ'\n",
       "2. 'DOXAZOSIN'\n",
       "3. 'VIGABATRIN'\n",
       "4. 'GLICLAZIDE'\n",
       "5. 'CLOMIPHENE CITRATE'\n",
       "6. 'MINOCYCLINE'\n",
       "7. 'PROGESTERONE'\n",
       "\n",
       "\n"
      ],
      "text/plain": [
       "[1] \"EFAVIRENZ\"          \"DOXAZOSIN\"          \"VIGABATRIN\"        \n",
       "[4] \"GLICLAZIDE\"         \"CLOMIPHENE CITRATE\" \"MINOCYCLINE\"       \n",
       "[7] \"PROGESTERONE\"      "
      ]
     },
     "metadata": {},
     "output_type": "display_data"
    }
   ],
   "source": [
    "# find the indices of the drug with ADR==1 for a given side effect gastrointestinal tract discorders\n",
    "temp <- which (adr.mat[, 88]==1)\n",
    "dimnames(adr.mat)[[1]] [temp]"
   ]
  },
  {
   "cell_type": "code",
   "execution_count": 9,
   "metadata": {},
   "outputs": [
    {
     "data": {
      "image/png": "[encoded data removed]",
      "text/plain": [
       "Plot with title “Histogram of num.one.each.side.effect”"
      ]
     },
     "metadata": {},
     "output_type": "display_data"
    }
   ],
   "source": [
    "hist (num.one.each.side.effect)"
   ]
  },
  {
   "cell_type": "code",
   "execution_count": 15,
   "metadata": {},
   "outputs": [
    {
     "data": {
      "text/html": [
       "<dl class=dl-horizontal>\n",
       "\t<dt>Hearing.disorders</dt>\n",
       "\t\t<dd>100</dd>\n",
       "\t<dt>Heart.failures</dt>\n",
       "\t\t<dd>215</dd>\n",
       "\t<dt>Hepatobiliary.investigations</dt>\n",
       "\t\t<dd>196</dd>\n",
       "</dl>\n"
      ],
      "text/latex": [
       "\\begin{description*}\n",
       "\\item[Hearing.disorders] 100\n",
       "\\item[Heart.failures] 215\n",
       "\\item[Hepatobiliary.investigations] 196\n",
       "\\end{description*}\n"
      ],
      "text/markdown": [
       "Hearing.disorders\n",
       ":   100Heart.failures\n",
       ":   215Hepatobiliary.investigations\n",
       ":   196\n",
       "\n"
      ],
      "text/plain": [
       "           Hearing.disorders               Heart.failures \n",
       "                         100                          215 \n",
       "Hepatobiliary.investigations \n",
       "                         196 "
      ]
     },
     "metadata": {},
     "output_type": "display_data"
    }
   ],
   "source": [
    "# heart failures is in column 100\n",
    "num.one.each.side.effect[99:101]"
   ]
  },
  {
   "cell_type": "markdown",
   "metadata": {},
   "source": [
    "## 4. Exercise (for home): Exercise: are there any side effects that are not associated with any of the 438 drugs? What is the average number of drugs associated with each side effects?"
   ]
  },
  {
   "cell_type": "code",
   "execution_count": null,
   "metadata": {
    "collapsed": true
   },
   "outputs": [],
   "source": []
  },
  {
   "cell_type": "code",
   "execution_count": null,
   "metadata": {
    "collapsed": true
   },
   "outputs": [],
   "source": []
  },
  {
   "cell_type": "markdown",
   "metadata": {},
   "source": [
    "# 5. Logistic regression"
   ]
  },
  {
   "cell_type": "markdown",
   "metadata": {},
   "source": [
    "## Is CDK1 predictive of heart failures?"
   ]
  },
  {
   "cell_type": "code",
   "execution_count": 16,
   "metadata": {},
   "outputs": [
    {
     "data": {
      "image/png": "[encoded data removed]",
      "text/plain": [
       "plot without title"
      ]
     },
     "metadata": {},
     "output_type": "display_data"
    }
   ],
   "source": [
    "plot (adr.mat[, 100], my.data$CDK1)"
   ]
  },
  {
   "cell_type": "code",
   "execution_count": 17,
   "metadata": {
    "collapsed": true
   },
   "outputs": [],
   "source": [
    "glmFit1 <- glm (adr.mat[,100] ~ my.data$CDK1, family=binomial)"
   ]
  },
  {
   "cell_type": "code",
   "execution_count": 18,
   "metadata": {},
   "outputs": [
    {
     "data": {
      "text/plain": [
       "\n",
       "Call:\n",
       "glm(formula = adr.mat[, 100] ~ my.data$CDK1, family = binomial)\n",
       "\n",
       "Deviance Residuals: \n",
       "   Min      1Q  Median      3Q     Max  \n",
       "-1.176  -1.161  -1.157   1.193   1.198  \n",
       "\n",
       "Coefficients:\n",
       "             Estimate Std. Error z value Pr(>|z|)\n",
       "(Intercept)  -0.03821    0.09937  -0.384    0.701\n",
       "my.data$CDK1 -0.20154    3.27850  -0.061    0.951\n",
       "\n",
       "(Dispersion parameter for binomial family taken to be 1)\n",
       "\n",
       "    Null deviance: 607.05  on 437  degrees of freedom\n",
       "Residual deviance: 607.05  on 436  degrees of freedom\n",
       "AIC: 611.05\n",
       "\n",
       "Number of Fisher Scoring iterations: 3\n"
      ]
     },
     "metadata": {},
     "output_type": "display_data"
    }
   ],
   "source": [
    "summary (glmFit1)"
   ]
  },
  {
   "cell_type": "code",
   "execution_count": 19,
   "metadata": {
    "collapsed": true
   },
   "outputs": [],
   "source": [
    "help (glm)"
   ]
  },
  {
   "cell_type": "code",
   "execution_count": null,
   "metadata": {
    "collapsed": true
   },
   "outputs": [],
   "source": []
  }
 ],
 "metadata": {
  "kernelspec": {
   "display_name": "R",
   "language": "R",
   "name": "ir"
  },
  "language_info": {
   "codemirror_mode": "r",
   "file_extension": ".r",
   "mimetype": "text/x-r-source",
   "name": "R",
   "pygments_lexer": "r",
   "version": "3.5.2"
  }
 },
 "nbformat": 4,
 "nbformat_minor": 2
}
