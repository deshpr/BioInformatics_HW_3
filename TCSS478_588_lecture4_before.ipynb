{
 "cells": [
  {
   "cell_type": "markdown",
   "metadata": {},
   "source": [
    "# TCSS 588 In-class Exercise: Data distribution and correlation"
   ]
  },
  {
   "cell_type": "markdown",
   "metadata": {},
   "source": [
    "These exercises will be used to illustrate how to perform data analyses using R.\n",
    "Alternatively, you can use R or Rstudio. \n",
    "I assume you will learn basic R commands on your own.\n",
    "\n",
    "Credit: The data and ideas behind these exercises and homeworks are from the NIH LINCS DCIC Crowdsourcing Portal and Ma’ayan Lab @ Mt Sinai, New York.\n",
    "http://www.maayanlab.net/crowdsourcing/megatask1.php\n",
    "\n",
    "The overarching goal is to predict adverse drug reactions. But we will take this task step by step. You will learn more about the meanings of these data in future lectures. For illustrative purposes in today’s class, just treat these data as numbers in a matrix."
   ]
  },
  {
   "cell_type": "markdown",
   "metadata": {},
   "source": [
    "## 1. Download and read in data\n",
    "Download the data “gene_expression_n438x978.txt” from canvas to your computer.  I have removed the first character (#) and an ‘ from the input file to make R happy."
   ]
  },
  {
   "cell_type": "code",
   "execution_count": 1,
   "metadata": {},
   "outputs": [
    {
     "data": {
      "text/html": [
       "'/Users/kayee/UW-Tacoma/TCSS478/kayee-winter2019/notebooks/ADR'"
      ],
      "text/latex": [
       "'/Users/kayee/UW-Tacoma/TCSS478/kayee-winter2019/notebooks/ADR'"
      ],
      "text/markdown": [
       "'/Users/kayee/UW-Tacoma/TCSS478/kayee-winter2019/notebooks/ADR'"
      ],
      "text/plain": [
       "[1] \"/Users/kayee/UW-Tacoma/TCSS478/kayee-winter2019/notebooks/ADR\""
      ]
     },
     "metadata": {},
     "output_type": "display_data"
    }
   ],
   "source": [
    "getwd()"
   ]
  },
  {
   "cell_type": "code",
   "execution_count": 24,
   "metadata": {},
   "outputs": [],
   "source": [
    "my.data <- read.table (\"gene_expression_n438x978.txt\", sep=\"\\t\", header=T)"
   ]
  },
  {
   "cell_type": "code",
   "execution_count": 25,
   "metadata": {},
   "outputs": [
    {
     "data": {
      "text/html": [
       "<ol class=list-inline>\n",
       "\t<li>438</li>\n",
       "\t<li>979</li>\n",
       "</ol>\n"
      ],
      "text/latex": [
       "\\begin{enumerate*}\n",
       "\\item 438\n",
       "\\item 979\n",
       "\\end{enumerate*}\n"
      ],
      "text/markdown": [
       "1. 438\n",
       "2. 979\n",
       "\n",
       "\n"
      ],
      "text/plain": [
       "[1] 438 979"
      ]
     },
     "metadata": {},
     "output_type": "display_data"
    }
   ],
   "source": [
    "dim (my.data)"
   ]
  },
  {
   "cell_type": "code",
   "execution_count": 27,
   "metadata": {},
   "outputs": [
    {
     "data": {
      "text/html": [
       "'list'"
      ],
      "text/latex": [
       "'list'"
      ],
      "text/markdown": [
       "'list'"
      ],
      "text/plain": [
       "[1] \"list\""
      ]
     },
     "metadata": {},
     "output_type": "display_data"
    }
   ],
   "source": [
    "typeof(my.data)"
   ]
  },
  {
   "cell_type": "code",
   "execution_count": 28,
   "metadata": {},
   "outputs": [
    {
     "data": {
      "text/html": [
       "<table>\n",
       "<thead><tr><th scope=col>X</th><th scope=col>PSME1</th><th scope=col>ATF1</th><th scope=col>RHEB</th><th scope=col>FOXO3</th><th scope=col>RHOA</th><th scope=col>IL1B</th><th scope=col>ASAH1</th><th scope=col>RALA</th><th scope=col>ARHGEF12</th></tr></thead>\n",
       "<tbody>\n",
       "\t<tr><td>ACETAZOLAMIDE      </td><td>-0.015159099       </td><td>-0.031470528       </td><td>-0.004733488       </td><td> 0.02591061        </td><td> 0.0056296773      </td><td>-0.007325439       </td><td> 0.011877825       </td><td> 0.022163771       </td><td>0.015935689        </td></tr>\n",
       "\t<tr><td>IRBESARTAN         </td><td>-0.026811981       </td><td> 0.012151979       </td><td>-0.025550148       </td><td>-0.02401181        </td><td>-0.0106717396      </td><td> 0.070951154       </td><td> 0.003130203       </td><td> 0.010251465       </td><td>0.064158581        </td></tr>\n",
       "\t<tr><td>IPRATROPIUM BROMIDE</td><td> 0.001017958       </td><td>-0.008650622       </td><td>-0.018128698       </td><td>-0.02079971        </td><td>-0.0002722781      </td><td> 0.025003360       </td><td>-0.011930075       </td><td>-0.001534971       </td><td>0.002130394        </td></tr>\n",
       "\t<tr><td>EFAVIRENZ          </td><td>-0.004398264       </td><td> 0.055387992       </td><td> 0.004658520       </td><td> 0.01380732        </td><td>-0.0340697348      </td><td> 0.024005885       </td><td> 0.028270797       </td><td> 0.031744732       </td><td>0.004021388        </td></tr>\n",
       "\t<tr><td>THIAMINE           </td><td> 0.001838965       </td><td>-0.018079188       </td><td>-0.011855532       </td><td>-0.03705033        </td><td>-0.0133954959      </td><td>-0.001752450       </td><td>-0.005194435       </td><td> 0.023154467       </td><td>0.046257712        </td></tr>\n",
       "</tbody>\n",
       "</table>\n"
      ],
      "text/latex": [
       "\\begin{tabular}{r|llllllllll}\n",
       " X & PSME1 & ATF1 & RHEB & FOXO3 & RHOA & IL1B & ASAH1 & RALA & ARHGEF12\\\\\n",
       "\\hline\n",
       "\t ACETAZOLAMIDE       & -0.015159099        & -0.031470528        & -0.004733488        &  0.02591061         &  0.0056296773       & -0.007325439        &  0.011877825        &  0.022163771        & 0.015935689        \\\\\n",
       "\t IRBESARTAN          & -0.026811981        &  0.012151979        & -0.025550148        & -0.02401181         & -0.0106717396       &  0.070951154        &  0.003130203        &  0.010251465        & 0.064158581        \\\\\n",
       "\t IPRATROPIUM BROMIDE &  0.001017958        & -0.008650622        & -0.018128698        & -0.02079971         & -0.0002722781       &  0.025003360        & -0.011930075        & -0.001534971        & 0.002130394        \\\\\n",
       "\t EFAVIRENZ           & -0.004398264        &  0.055387992        &  0.004658520        &  0.01380732         & -0.0340697348       &  0.024005885        &  0.028270797        &  0.031744732        & 0.004021388        \\\\\n",
       "\t THIAMINE            &  0.001838965        & -0.018079188        & -0.011855532        & -0.03705033         & -0.0133954959       & -0.001752450        & -0.005194435        &  0.023154467        & 0.046257712        \\\\\n",
       "\\end{tabular}\n"
      ],
      "text/markdown": [
       "\n",
       "| X | PSME1 | ATF1 | RHEB | FOXO3 | RHOA | IL1B | ASAH1 | RALA | ARHGEF12 |\n",
       "|---|---|---|---|---|---|---|---|---|---|\n",
       "| ACETAZOLAMIDE       | -0.015159099        | -0.031470528        | -0.004733488        |  0.02591061         |  0.0056296773       | -0.007325439        |  0.011877825        |  0.022163771        | 0.015935689         |\n",
       "| IRBESARTAN          | -0.026811981        |  0.012151979        | -0.025550148        | -0.02401181         | -0.0106717396       |  0.070951154        |  0.003130203        |  0.010251465        | 0.064158581         |\n",
       "| IPRATROPIUM BROMIDE |  0.001017958        | -0.008650622        | -0.018128698        | -0.02079971         | -0.0002722781       |  0.025003360        | -0.011930075        | -0.001534971        | 0.002130394         |\n",
       "| EFAVIRENZ           | -0.004398264        |  0.055387992        |  0.004658520        |  0.01380732         | -0.0340697348       |  0.024005885        |  0.028270797        |  0.031744732        | 0.004021388         |\n",
       "| THIAMINE            |  0.001838965        | -0.018079188        | -0.011855532        | -0.03705033         | -0.0133954959       | -0.001752450        | -0.005194435        |  0.023154467        | 0.046257712         |\n",
       "\n"
      ],
      "text/plain": [
       "  X                   PSME1        ATF1         RHEB         FOXO3      \n",
       "1 ACETAZOLAMIDE       -0.015159099 -0.031470528 -0.004733488  0.02591061\n",
       "2 IRBESARTAN          -0.026811981  0.012151979 -0.025550148 -0.02401181\n",
       "3 IPRATROPIUM BROMIDE  0.001017958 -0.008650622 -0.018128698 -0.02079971\n",
       "4 EFAVIRENZ           -0.004398264  0.055387992  0.004658520  0.01380732\n",
       "5 THIAMINE             0.001838965 -0.018079188 -0.011855532 -0.03705033\n",
       "  RHOA          IL1B         ASAH1        RALA         ARHGEF12   \n",
       "1  0.0056296773 -0.007325439  0.011877825  0.022163771 0.015935689\n",
       "2 -0.0106717396  0.070951154  0.003130203  0.010251465 0.064158581\n",
       "3 -0.0002722781  0.025003360 -0.011930075 -0.001534971 0.002130394\n",
       "4 -0.0340697348  0.024005885  0.028270797  0.031744732 0.004021388\n",
       "5 -0.0133954959 -0.001752450 -0.005194435  0.023154467 0.046257712"
      ]
     },
     "metadata": {},
     "output_type": "display_data"
    },
    {
     "ename": "ERROR",
     "evalue": "Error in eval(expr, envir, enclos): object 'my.data.columns' not found\n",
     "output_type": "error",
     "traceback": [
      "Error in eval(expr, envir, enclos): object 'my.data.columns' not found\nTraceback:\n"
     ]
    }
   ],
   "source": [
    "my.data[1:5, 1:10]\n",
    "my.data.column"
   ]
  },
  {
   "cell_type": "code",
   "execution_count": 29,
   "metadata": {},
   "outputs": [
    {
     "data": {
      "text/html": [
       "<table>\n",
       "<thead><tr><th></th><th scope=col>PSME1</th><th scope=col>ATF1</th><th scope=col>RHEB</th><th scope=col>FOXO3</th><th scope=col>RHOA</th></tr></thead>\n",
       "<tbody>\n",
       "\t<tr><th scope=row>ACETAZOLAMIDE</th><td>-0.015159099 </td><td>-0.031470528 </td><td>-0.004733488 </td><td> 0.02591061  </td><td> 0.0056296773</td></tr>\n",
       "\t<tr><th scope=row>IRBESARTAN</th><td>-0.026811981 </td><td> 0.012151979 </td><td>-0.025550148 </td><td>-0.02401181  </td><td>-0.0106717396</td></tr>\n",
       "\t<tr><th scope=row>IPRATROPIUM BROMIDE</th><td> 0.001017958 </td><td>-0.008650622 </td><td>-0.018128698 </td><td>-0.02079971  </td><td>-0.0002722781</td></tr>\n",
       "\t<tr><th scope=row>EFAVIRENZ</th><td>-0.004398264 </td><td> 0.055387992 </td><td> 0.004658520 </td><td> 0.01380732  </td><td>-0.0340697348</td></tr>\n",
       "\t<tr><th scope=row>THIAMINE</th><td> 0.001838965 </td><td>-0.018079188 </td><td>-0.011855532 </td><td>-0.03705033  </td><td>-0.0133954959</td></tr>\n",
       "</tbody>\n",
       "</table>\n"
      ],
      "text/latex": [
       "\\begin{tabular}{r|lllll}\n",
       "  & PSME1 & ATF1 & RHEB & FOXO3 & RHOA\\\\\n",
       "\\hline\n",
       "\tACETAZOLAMIDE & -0.015159099  & -0.031470528  & -0.004733488  &  0.02591061   &  0.0056296773\\\\\n",
       "\tIRBESARTAN & -0.026811981  &  0.012151979  & -0.025550148  & -0.02401181   & -0.0106717396\\\\\n",
       "\tIPRATROPIUM BROMIDE &  0.001017958  & -0.008650622  & -0.018128698  & -0.02079971   & -0.0002722781\\\\\n",
       "\tEFAVIRENZ & -0.004398264  &  0.055387992  &  0.004658520  &  0.01380732   & -0.0340697348\\\\\n",
       "\tTHIAMINE &  0.001838965  & -0.018079188  & -0.011855532  & -0.03705033   & -0.0133954959\\\\\n",
       "\\end{tabular}\n"
      ],
      "text/markdown": [
       "\n",
       "| <!--/--> | PSME1 | ATF1 | RHEB | FOXO3 | RHOA |\n",
       "|---|---|---|---|---|---|\n",
       "| ACETAZOLAMIDE | -0.015159099  | -0.031470528  | -0.004733488  |  0.02591061   |  0.0056296773 |\n",
       "| IRBESARTAN | -0.026811981  |  0.012151979  | -0.025550148  | -0.02401181   | -0.0106717396 |\n",
       "| IPRATROPIUM BROMIDE |  0.001017958  | -0.008650622  | -0.018128698  | -0.02079971   | -0.0002722781 |\n",
       "| EFAVIRENZ | -0.004398264  |  0.055387992  |  0.004658520  |  0.01380732   | -0.0340697348 |\n",
       "| THIAMINE |  0.001838965  | -0.018079188  | -0.011855532  | -0.03705033   | -0.0133954959 |\n",
       "\n"
      ],
      "text/plain": [
       "                    PSME1        ATF1         RHEB         FOXO3      \n",
       "ACETAZOLAMIDE       -0.015159099 -0.031470528 -0.004733488  0.02591061\n",
       "IRBESARTAN          -0.026811981  0.012151979 -0.025550148 -0.02401181\n",
       "IPRATROPIUM BROMIDE  0.001017958 -0.008650622 -0.018128698 -0.02079971\n",
       "EFAVIRENZ           -0.004398264  0.055387992  0.004658520  0.01380732\n",
       "THIAMINE             0.001838965 -0.018079188 -0.011855532 -0.03705033\n",
       "                    RHOA         \n",
       "ACETAZOLAMIDE        0.0056296773\n",
       "IRBESARTAN          -0.0106717396\n",
       "IPRATROPIUM BROMIDE -0.0002722781\n",
       "EFAVIRENZ           -0.0340697348\n",
       "THIAMINE            -0.0133954959"
      ]
     },
     "metadata": {},
     "output_type": "display_data"
    }
   ],
   "source": [
    "#dimnames(my.data)[[1]] <- my.data[,1]\n",
    "#my.data <- my.data[, -1]\n",
    "#my.data[1:5, 1:5]"
   ]
  },
  {
   "cell_type": "code",
   "execution_count": 22,
   "metadata": {},
   "outputs": [
    {
     "ename": "ERROR",
     "evalue": "Error in c(, \"ATF1\"): argument 1 is empty\n",
     "output_type": "error",
     "traceback": [
      "Error in c(, \"ATF1\"): argument 1 is empty\nTraceback:\n",
      "1. my.data[, c(, \"ATF1\")]",
      "2. `[.data.frame`(my.data, , c(, \"ATF1\"))"
     ]
    }
   ],
   "source": [
    "#my.data[, c(,'ATF1')]"
   ]
  },
  {
   "cell_type": "markdown",
   "metadata": {},
   "source": [
    "## 2. Plot a histogram "
   ]
  },
  {
   "cell_type": "code",
   "execution_count": 39,
   "metadata": {},
   "outputs": [
    {
     "data": {
      "image/png": "[encoded data removed]",
      "text/plain": [
       "Plot with title \"Histogram of ATF11\""
      ]
     },
     "metadata": {},
     "output_type": "display_data"
    }
   ],
   "source": [
    "#help (hist)\n",
    "hist(my.data[, 2], xlab=\"gene expression of ATF1\", main=\"Histogram of ATF11\")"
   ]
  },
  {
   "cell_type": "markdown",
   "metadata": {},
   "source": [
    "## Your task 1: Plot a histogram of gene ATF1.  After you are done, check with your neighbors. "
   ]
  },
  {
   "cell_type": "markdown",
   "metadata": {},
   "source": [
    "## 3. Check the range of the data."
   ]
  },
  {
   "cell_type": "markdown",
   "metadata": {},
   "source": [
    "## 4. Boxplot"
   ]
  },
  {
   "cell_type": "code",
   "execution_count": 34,
   "metadata": {},
   "outputs": [
    {
     "data": {
      "image/png": "[encoded data removed]",
      "text/plain": [
       "plot without title"
      ]
     },
     "metadata": {},
     "output_type": "display_data"
    }
   ],
   "source": [
    "boxplot (my.data[, 2])"
   ]
  },
  {
   "cell_type": "code",
   "execution_count": 11,
   "metadata": {
    "collapsed": true
   },
   "outputs": [],
   "source": [
    "help (boxplot)"
   ]
  },
  {
   "cell_type": "code",
   "execution_count": null,
   "metadata": {
    "collapsed": true
   },
   "outputs": [],
   "source": []
  }
 ],
 "metadata": {
  "kernelspec": {
   "display_name": "R",
   "language": "R",
   "name": "ir"
  },
  "language_info": {
   "codemirror_mode": "r",
   "file_extension": ".r",
   "mimetype": "text/x-r-source",
   "name": "R",
   "pygments_lexer": "r",
   "version": "3.5.2"
  }
 },
 "nbformat": 4,
 "nbformat_minor": 2
}
