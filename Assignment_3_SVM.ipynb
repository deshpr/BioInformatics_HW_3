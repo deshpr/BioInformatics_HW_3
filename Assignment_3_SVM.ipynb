{
 "cells": [
  {
   "cell_type": "code",
   "execution_count": 1,
   "metadata": {},
   "outputs": [
    {
     "data": {
      "text/html": [
       "<table>\n",
       "<thead><tr><th></th><th scope=col>PSME1</th><th scope=col>ATF1</th><th scope=col>RHEB</th><th scope=col>FOXO3</th><th scope=col>RHOA</th></tr></thead>\n",
       "<tbody>\n",
       "\t<tr><th scope=row>ACETAZOLAMIDE</th><td>-0.015159099 </td><td>-0.031470528 </td><td>-0.004733488 </td><td> 0.02591061  </td><td> 0.0056296773</td></tr>\n",
       "\t<tr><th scope=row>IRBESARTAN</th><td>-0.026811981 </td><td> 0.012151979 </td><td>-0.025550148 </td><td>-0.02401181  </td><td>-0.0106717396</td></tr>\n",
       "\t<tr><th scope=row>IPRATROPIUM BROMIDE</th><td> 0.001017958 </td><td>-0.008650622 </td><td>-0.018128698 </td><td>-0.02079971  </td><td>-0.0002722781</td></tr>\n",
       "\t<tr><th scope=row>EFAVIRENZ</th><td>-0.004398264 </td><td> 0.055387992 </td><td> 0.004658520 </td><td> 0.01380732  </td><td>-0.0340697348</td></tr>\n",
       "\t<tr><th scope=row>THIAMINE</th><td> 0.001838965 </td><td>-0.018079188 </td><td>-0.011855532 </td><td>-0.03705033  </td><td>-0.0133954959</td></tr>\n",
       "</tbody>\n",
       "</table>\n"
      ],
      "text/latex": [
       "\\begin{tabular}{r|lllll}\n",
       "  & PSME1 & ATF1 & RHEB & FOXO3 & RHOA\\\\\n",
       "\\hline\n",
       "\tACETAZOLAMIDE & -0.015159099  & -0.031470528  & -0.004733488  &  0.02591061   &  0.0056296773\\\\\n",
       "\tIRBESARTAN & -0.026811981  &  0.012151979  & -0.025550148  & -0.02401181   & -0.0106717396\\\\\n",
       "\tIPRATROPIUM BROMIDE &  0.001017958  & -0.008650622  & -0.018128698  & -0.02079971   & -0.0002722781\\\\\n",
       "\tEFAVIRENZ & -0.004398264  &  0.055387992  &  0.004658520  &  0.01380732   & -0.0340697348\\\\\n",
       "\tTHIAMINE &  0.001838965  & -0.018079188  & -0.011855532  & -0.03705033   & -0.0133954959\\\\\n",
       "\\end{tabular}\n"
      ],
      "text/markdown": [
       "\n",
       "| <!--/--> | PSME1 | ATF1 | RHEB | FOXO3 | RHOA |\n",
       "|---|---|---|---|---|---|\n",
       "| ACETAZOLAMIDE | -0.015159099  | -0.031470528  | -0.004733488  |  0.02591061   |  0.0056296773 |\n",
       "| IRBESARTAN | -0.026811981  |  0.012151979  | -0.025550148  | -0.02401181   | -0.0106717396 |\n",
       "| IPRATROPIUM BROMIDE |  0.001017958  | -0.008650622  | -0.018128698  | -0.02079971   | -0.0002722781 |\n",
       "| EFAVIRENZ | -0.004398264  |  0.055387992  |  0.004658520  |  0.01380732   | -0.0340697348 |\n",
       "| THIAMINE |  0.001838965  | -0.018079188  | -0.011855532  | -0.03705033   | -0.0133954959 |\n",
       "\n"
      ],
      "text/plain": [
       "                    PSME1        ATF1         RHEB         FOXO3      \n",
       "ACETAZOLAMIDE       -0.015159099 -0.031470528 -0.004733488  0.02591061\n",
       "IRBESARTAN          -0.026811981  0.012151979 -0.025550148 -0.02401181\n",
       "IPRATROPIUM BROMIDE  0.001017958 -0.008650622 -0.018128698 -0.02079971\n",
       "EFAVIRENZ           -0.004398264  0.055387992  0.004658520  0.01380732\n",
       "THIAMINE             0.001838965 -0.018079188 -0.011855532 -0.03705033\n",
       "                    RHOA         \n",
       "ACETAZOLAMIDE        0.0056296773\n",
       "IRBESARTAN          -0.0106717396\n",
       "IPRATROPIUM BROMIDE -0.0002722781\n",
       "EFAVIRENZ           -0.0340697348\n",
       "THIAMINE            -0.0133954959"
      ]
     },
     "metadata": {},
     "output_type": "display_data"
    },
    {
     "data": {
      "text/html": [
       "<ol class=list-inline>\n",
       "\t<li>438</li>\n",
       "\t<li>978</li>\n",
       "</ol>\n"
      ],
      "text/latex": [
       "\\begin{enumerate*}\n",
       "\\item 438\n",
       "\\item 978\n",
       "\\end{enumerate*}\n"
      ],
      "text/markdown": [
       "1. 438\n",
       "2. 978\n",
       "\n",
       "\n"
      ],
      "text/plain": [
       "[1] 438 978"
      ]
     },
     "metadata": {},
     "output_type": "display_data"
    },
    {
     "data": {
      "text/html": [
       "<ol class=list-inline>\n",
       "\t<li>-0.0151590991157</li>\n",
       "\t<li>-0.0268119808259</li>\n",
       "\t<li>0.0010179582179</li>\n",
       "\t<li>-0.00439826420702</li>\n",
       "\t<li>0.00183896461475</li>\n",
       "\t<li>-0.000351944186303</li>\n",
       "\t<li>0.022574708509</li>\n",
       "\t<li>0.0246360494808</li>\n",
       "\t<li>0.0169354604418</li>\n",
       "\t<li>-0.00309383072982</li>\n",
       "</ol>\n"
      ],
      "text/latex": [
       "\\begin{enumerate*}\n",
       "\\item -0.0151590991157\n",
       "\\item -0.0268119808259\n",
       "\\item 0.0010179582179\n",
       "\\item -0.00439826420702\n",
       "\\item 0.00183896461475\n",
       "\\item -0.000351944186303\n",
       "\\item 0.022574708509\n",
       "\\item 0.0246360494808\n",
       "\\item 0.0169354604418\n",
       "\\item -0.00309383072982\n",
       "\\end{enumerate*}\n"
      ],
      "text/markdown": [
       "1. -0.0151590991157\n",
       "2. -0.0268119808259\n",
       "3. 0.0010179582179\n",
       "4. -0.00439826420702\n",
       "5. 0.00183896461475\n",
       "6. -0.000351944186303\n",
       "7. 0.022574708509\n",
       "8. 0.0246360494808\n",
       "9. 0.0169354604418\n",
       "10. -0.00309383072982\n",
       "\n",
       "\n"
      ],
      "text/plain": [
       " [1] -0.0151590991 -0.0268119808  0.0010179582 -0.0043982642  0.0018389646\n",
       " [6] -0.0003519442  0.0225747085  0.0246360495  0.0169354604 -0.0030938307"
      ]
     },
     "metadata": {},
     "output_type": "display_data"
    },
    {
     "name": "stdout",
     "output_type": "stream",
     "text": [
      "took time:  1.010741"
     ]
    }
   ],
   "source": [
    "start.time <- Sys.time()\n",
    "\n",
    "geneExpressionFileName  <- 'gene_expression_n438x978.txt' \n",
    "myData <- read.table(geneExpressionFileName, sep=\"\\t\", header=T)\n",
    "dimnames(myData)[[1]] <- myData[,1]\n",
    "myData <- myData[,-1]\n",
    "myData[1:5, 1:5]\n",
    "dim(myData)\n",
    "myData[1:10,1]\n",
    "end.time <- Sys.time()\n",
    "cat(\"took time: \",end.time - start.time)"
   ]
  },
  {
   "cell_type": "code",
   "execution_count": 2,
   "metadata": {},
   "outputs": [
    {
     "data": {
      "text/html": [
       "<table>\n",
       "<thead><tr><th></th><th scope=col>Abdominal.hernias.and.other.abdominal.wall.conditions</th><th scope=col>Abortions.and.stillbirth</th><th scope=col>Acid.base.disorders</th><th scope=col>Administration.site.reactions</th><th scope=col>Adrenal.gland.disorders</th></tr></thead>\n",
       "<tbody>\n",
       "\t<tr><th scope=row>ACETAZOLAMIDE</th><td>0</td><td>0</td><td>1</td><td>1</td><td>0</td></tr>\n",
       "\t<tr><th scope=row>IRBESARTAN</th><td>0</td><td>0</td><td>0</td><td>0</td><td>1</td></tr>\n",
       "\t<tr><th scope=row>IPRATROPIUM BROMIDE</th><td>0</td><td>0</td><td>0</td><td>0</td><td>1</td></tr>\n",
       "\t<tr><th scope=row>EFAVIRENZ</th><td>0</td><td>0</td><td>0</td><td>0</td><td>1</td></tr>\n",
       "\t<tr><th scope=row>THIAMINE</th><td>0</td><td>0</td><td>0</td><td>0</td><td>0</td></tr>\n",
       "</tbody>\n",
       "</table>\n"
      ],
      "text/latex": [
       "\\begin{tabular}{r|lllll}\n",
       "  & Abdominal.hernias.and.other.abdominal.wall.conditions & Abortions.and.stillbirth & Acid.base.disorders & Administration.site.reactions & Adrenal.gland.disorders\\\\\n",
       "\\hline\n",
       "\tACETAZOLAMIDE & 0 & 0 & 1 & 1 & 0\\\\\n",
       "\tIRBESARTAN & 0 & 0 & 0 & 0 & 1\\\\\n",
       "\tIPRATROPIUM BROMIDE & 0 & 0 & 0 & 0 & 1\\\\\n",
       "\tEFAVIRENZ & 0 & 0 & 0 & 0 & 1\\\\\n",
       "\tTHIAMINE & 0 & 0 & 0 & 0 & 0\\\\\n",
       "\\end{tabular}\n"
      ],
      "text/markdown": [
       "\n",
       "| <!--/--> | Abdominal.hernias.and.other.abdominal.wall.conditions | Abortions.and.stillbirth | Acid.base.disorders | Administration.site.reactions | Adrenal.gland.disorders |\n",
       "|---|---|---|---|---|---|\n",
       "| ACETAZOLAMIDE | 0 | 0 | 1 | 1 | 0 |\n",
       "| IRBESARTAN | 0 | 0 | 0 | 0 | 1 |\n",
       "| IPRATROPIUM BROMIDE | 0 | 0 | 0 | 0 | 1 |\n",
       "| EFAVIRENZ | 0 | 0 | 0 | 0 | 1 |\n",
       "| THIAMINE | 0 | 0 | 0 | 0 | 0 |\n",
       "\n"
      ],
      "text/plain": [
       "                    Abdominal.hernias.and.other.abdominal.wall.conditions\n",
       "ACETAZOLAMIDE       0                                                    \n",
       "IRBESARTAN          0                                                    \n",
       "IPRATROPIUM BROMIDE 0                                                    \n",
       "EFAVIRENZ           0                                                    \n",
       "THIAMINE            0                                                    \n",
       "                    Abortions.and.stillbirth Acid.base.disorders\n",
       "ACETAZOLAMIDE       0                        1                  \n",
       "IRBESARTAN          0                        0                  \n",
       "IPRATROPIUM BROMIDE 0                        0                  \n",
       "EFAVIRENZ           0                        0                  \n",
       "THIAMINE            0                        0                  \n",
       "                    Administration.site.reactions Adrenal.gland.disorders\n",
       "ACETAZOLAMIDE       1                             0                      \n",
       "IRBESARTAN          0                             1                      \n",
       "IPRATROPIUM BROMIDE 0                             1                      \n",
       "EFAVIRENZ           0                             1                      \n",
       "THIAMINE            0                             0                      "
      ]
     },
     "metadata": {},
     "output_type": "display_data"
    },
    {
     "data": {
      "text/html": [
       "<ol class=list-inline>\n",
       "\t<li>438</li>\n",
       "\t<li>232</li>\n",
       "</ol>\n"
      ],
      "text/latex": [
       "\\begin{enumerate*}\n",
       "\\item 438\n",
       "\\item 232\n",
       "\\end{enumerate*}\n"
      ],
      "text/markdown": [
       "1. 438\n",
       "2. 232\n",
       "\n",
       "\n"
      ],
      "text/plain": [
       "[1] 438 232"
      ]
     },
     "metadata": {},
     "output_type": "display_data"
    },
    {
     "data": {
      "text/html": [
       "232"
      ],
      "text/latex": [
       "232"
      ],
      "text/markdown": [
       "232"
      ],
      "text/plain": [
       "[1] 232"
      ]
     },
     "metadata": {},
     "output_type": "display_data"
    },
    {
     "data": {
      "text/html": [
       "'Abdominal.hernias.and.other.abdominal.wall.conditions'"
      ],
      "text/latex": [
       "'Abdominal.hernias.and.other.abdominal.wall.conditions'"
      ],
      "text/markdown": [
       "'Abdominal.hernias.and.other.abdominal.wall.conditions'"
      ],
      "text/plain": [
       "[1] \"Abdominal.hernias.and.other.abdominal.wall.conditions\""
      ]
     },
     "metadata": {},
     "output_type": "display_data"
    },
    {
     "data": {
      "text/html": [
       "FALSE"
      ],
      "text/latex": [
       "FALSE"
      ],
      "text/markdown": [
       "FALSE"
      ],
      "text/plain": [
       "[1] FALSE"
      ]
     },
     "metadata": {},
     "output_type": "display_data"
    }
   ],
   "source": [
    "sideEffectFileName <- 'ADRs_HLGT_n438x232.txt'\n",
    "sideEffectData <- read.table(sideEffectFileName, sep=\"\\t\", header=T)\n",
    "dimnames(sideEffectData)[[1]] <- sideEffectData[,1]\n",
    "sideEffectData <- sideEffectData[,-1]\n",
    "sideEffectData[1:5, 1:5]\n",
    "dim(sideEffectData)\n",
    "names <- names(sideEffectData)\n",
    "length(names)\n",
    "names[1]\n",
    "anyNA(sideEffectData)"
   ]
  },
  {
   "cell_type": "code",
   "execution_count": 3,
   "metadata": {},
   "outputs": [
    {
     "name": "stderr",
     "output_type": "stream",
     "text": [
      "Installing package into 'C:/Users/radeshpa/AppData/Local/Programs/Python/Python37/Lib/site-packages/rpy2/R/win-library/3.5'\n",
      "(as 'lib' is unspecified)\n"
     ]
    },
    {
     "name": "stdout",
     "output_type": "stream",
     "text": [
      "package 'e1071' successfully unpacked and MD5 sums checked\n"
     ]
    },
    {
     "name": "stderr",
     "output_type": "stream",
     "text": [
      "Warning message:\n",
      "\"cannot remove prior installation of package 'e1071'\""
     ]
    },
    {
     "name": "stdout",
     "output_type": "stream",
     "text": [
      "\n",
      "The downloaded binary packages are in\n",
      "\tC:\\Users\\radeshpa\\AppData\\Local\\Temp\\RtmpmIUzj1\\downloaded_packages\n"
     ]
    },
    {
     "name": "stderr",
     "output_type": "stream",
     "text": [
      "Loading required package: e1071\n",
      "Installing package into 'C:/Users/radeshpa/AppData/Local/Programs/Python/Python37/Lib/site-packages/rpy2/R/win-library/3.5'\n",
      "(as 'lib' is unspecified)\n"
     ]
    },
    {
     "name": "stdout",
     "output_type": "stream",
     "text": [
      "package 'caret' successfully unpacked and MD5 sums checked\n"
     ]
    },
    {
     "name": "stderr",
     "output_type": "stream",
     "text": [
      "Warning message:\n",
      "\"cannot remove prior installation of package 'caret'\""
     ]
    },
    {
     "name": "stdout",
     "output_type": "stream",
     "text": [
      "\n",
      "The downloaded binary packages are in\n",
      "\tC:\\Users\\radeshpa\\AppData\\Local\\Temp\\RtmpmIUzj1\\downloaded_packages\n"
     ]
    }
   ],
   "source": [
    "install.packages('e1071', dependencies=TRUE)\n",
    "require('e1071')\n",
    "install.packages('caret', dependencies = TRUE)\n",
    "#require(caret)\n",
    "#flds <- createFolds(y, k = 10, list = TRUE, returnTrain = FALSE)"
   ]
  },
  {
   "cell_type": "code",
   "execution_count": 4,
   "metadata": {},
   "outputs": [
    {
     "ename": "ERROR",
     "evalue": "Error in library(caret): there is no package called 'caret'\n",
     "output_type": "error",
     "traceback": [
      "Error in library(caret): there is no package called 'caret'\nTraceback:\n",
      "1. library(caret)",
      "2. stop(txt, domain = NA)"
     ]
    }
   ],
   "source": [
    "# Install dependencies\n",
    "library(caret)\n",
    "library(e1071)\n",
    "library(class)"
   ]
  },
  {
   "cell_type": "code",
   "execution_count": null,
   "metadata": {},
   "outputs": [],
   "source": [
    "start.time <- Sys.time()\n",
    "# Calculate t-score for all the genes\n",
    "# All genes with  pValue less than threshold\n",
    "#sideEffectData <- sideEffectData[1:438, 1:10]\n",
    "sideEffectNames <- names(sideEffectData)\n",
    "geneNames <- names(myData)\n",
    "#sideEffectNames\n",
    "\n",
    "## FOR EVERY SIDE EFFECT\n",
    "\n",
    "experimentName <- \"t_0_05_kNN_k = 10\"\n",
    "experimentResults <- data.frame(a = character(), b= numeric())\n",
    "experimentResults <- rbind(experimentResults, data.frame(a = \"side effect name\", b = 0))\n",
    "fileName <- paste(experimentName, '.csv')\n",
    "experimentFile <- paste(\"C:\\\\Users\\\\radeshpa\\\\Desktop\\\\BioInformatics\\\\Assignment3\\\\Experiment_output\", fileName)\n",
    "\n",
    "\n",
    "for(i in 1:length(sideEffectNames)){\n",
    "    sideEffectName <- sideEffectNames[i]\n",
    "#res <- sapply(sideEffectNames, function(sideEffectName){\n",
    "    cat(\"Working on the side effect: \", sideEffectName, \"\\n\")\n",
    "    # Y Values\n",
    "    currentSideEffect <- sideEffectData[,sideEffectName]\n",
    "    presentIndices <- which(currentSideEffect == 1)\n",
    "#    length(presentIndices)\n",
    "    absentIndices <- which(currentSideEffect == 0)\n",
    "#    length(absentIndices)\n",
    "\n",
    "    \n",
    "    # Create frame only using subset data.\n",
    "    subSetData <- myData[, featuresOfInterest]\n",
    "#    subSetData <- data.frame (myData$UBE2C, myData$ATF1, myData$RHOA)   \n",
    "    \n",
    "    cat(\"gene data: \", dim(subSetData), \" Count of side effect: \", length(currentSideEffect), \"\\n\")\n",
    "   \n",
    "    outerCount <- 3\n",
    "    accuracyOverFoldsTotal <- 0\n",
    "    \n",
    "    \n",
    "    for(j in 1:outerCount){\n",
    "        \n",
    "        \n",
    "################################################  DATA  ###########################\n",
    "        \n",
    "        foldCount <- 10\n",
    "        folds <- createFolds(currentSideEffect, foldCount, returnTrain = FALSE)\n",
    "        # Get the values for every list (indices)\n",
    "\n",
    "        foldIndices <- list()\n",
    "        \n",
    "        for(k in 1:length(folds)){\n",
    "            foldIndices[[length(foldIndices)+1]] <- flds[[k]]\n",
    "        }\n",
    "\n",
    "        accuracyOverFolds <- 0\n",
    "        accuracyOverFoldsSum <- 0\n",
    "       \n",
    "        \n",
    "        for(k in 1:length(folds)){\n",
    "            # Data of this fold.\n",
    "            cat(\"Running fold number: \", k, \" Count number: \", j, \"\\n\")\n",
    "\n",
    "            # We need to create a vector for indexing\n",
    "            testingDataX <- myData[foldIndices[[k]],]\n",
    "\n",
    "#            cat(\"Dimension of testying data x = \", dim(testingDataX), \"\\n\")\n",
    "\n",
    "            testingDataY <- sideEffectData[foldIndices[[k]],sideEffectName]\n",
    "\n",
    "#            cat(\"Length of testing data = \", length(testingDataY), \"\\n\")\n",
    "\n",
    "\n",
    "            remainingIndices <- (Reduce(c,foldIndices[-k]))\n",
    "\n",
    "            trainingDataX <- myData[c(remainingIndices), ]\n",
    "\n",
    "            trainingDataY <- sideEffectData[c(remainingIndices), sideEffectName]\n",
    "\n",
    "\n",
    "###################################################### FEATURE SELECTION : None #####################################################\n",
    "\n",
    "            # featuresOfInterest <- names(trainingDataX)\n",
    "            \n",
    "##################################################### FEATURE SELECTION : t- statistic ###########################################################            \n",
    "\n",
    "            allpValues <- sapply(geneNames, function(geneName){\n",
    "                geneData <- trainingDataX[,geneName]\n",
    "                sampleOne <-  geneData[presentIndices]\n",
    "                sampleOneLength <- length(sampleOne)\n",
    "                sampleTwo <-  geneData[absentIndices]\n",
    "                sampleTwoLength <- length(sampleTwo)\n",
    "        #        cat(\"sample one size = \", length(sampleOne), \" and sample two size = \", length(sampleTwo), \"\\n\")\n",
    "                if(sampleOneLength == 0 | sampleTwoLength == 0 | (sampleOneLength == 1 && sampleTwoLength != 1) | (sampleOneLength != 1 && sampleTwoLength == 1)){\n",
    "                    # this is a great feature!\n",
    "                    pValue  <- 0 # we want this feature.\n",
    "                }\n",
    "                else{\n",
    "        #           cat(\"sample one size = \", length(sampleOne), \" and sample two size = \", length(sampleTwo), \"\\n\")\n",
    "\n",
    "                    pValue <- t.test(sampleOne, sampleTwo)$p.value\n",
    "        #            cat(\" gene: \", geneName, \" side effect: \", sideEffectName, \"  p Value : \", pValue, \"\\n\")\n",
    "                }\n",
    "                pValue            \n",
    "            })\n",
    "\n",
    "\n",
    "            threshold <- 0.05\n",
    "            sigpIndices <- which(allpValues < threshold)\n",
    "\n",
    "            sigpValues <- allpValues[sigpIndices]\n",
    "            featuresOfInterest <- names(trainingDataX)[sigpIndices]\n",
    "\n",
    "            refinedTrainingDataX <- trainingDataX[, featuresOfInterest]\n",
    "\n",
    "            \n",
    "########################################## KNN #######################################################################################\n",
    "\n",
    "            # Now filter the test set also!\n",
    "            refinedTestingDataX <- testingDataX[,featuresOfInterest]\n",
    "            predictionResults <- knn(refinedTrainingDataX, refinedTestingDataX, factor(trainingDataY), k = 10)\n",
    "\n",
    "\n",
    "\n",
    "            accuracy <- (sum(predictionResults==testingDataY) + sum(is.na(predictionResults) & is.na(testingDataY))) / length(predictionResults)\n",
    "#            cat(\"Accuracy for fold:  \", i, \" is \", accuracy, \"\\n\")\n",
    "            accuracyOverFoldsSum <- accuracyOverFoldsSum + accuracy\n",
    "            \n",
    "    #######################################################################################################################        \n",
    "\n",
    "        }\n",
    "        \n",
    "        accuracyOverFolds <- (accuracyOverFoldsSum)/length(folds)     \n",
    "        accuracyOverFoldsTotal <- accuracyOverFoldsTotal + accuracyOverFolds\n",
    "    }\n",
    "    \n",
    "    finalAccuracy  <- accuracyOverFoldsTotal/outerCount\n",
    "    cat(\"Final Accuracy is: \", finalAccuracy, \"\\n\")\n",
    "    \n",
    "    write.table(data.frame(a = sideEffectName, b = finalAccuracy), experimentFile, append = TRUE, sep = \"\\t\", row.names = FALSE, col.names = FALSE)    \n",
    "}\n",
    "\n",
    "end.time <- Sys.time()\n",
    "cat(\"took time: \",end.time - start.time)"
   ]
  }
 ],
 "metadata": {
  "kernelspec": {
   "display_name": "R",
   "language": "R",
   "name": "ir"
  },
  "language_info": {
   "codemirror_mode": "r",
   "file_extension": ".r",
   "mimetype": "text/x-r-source",
   "name": "R",
   "pygments_lexer": "r",
   "version": "3.5.2"
  }
 },
 "nbformat": 4,
 "nbformat_minor": 2
}
