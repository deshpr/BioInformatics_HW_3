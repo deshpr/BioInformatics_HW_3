{
 "cells": [
  {
   "cell_type": "markdown",
   "metadata": {},
   "source": [
    "# TCSS 478/588 In-class Exercise: Logistic regression"
   ]
  },
  {
   "cell_type": "markdown",
   "metadata": {},
   "source": [
    "These exercises will be used to illustrate how to perform data analyses using R.\n",
    "Alternatively, you can use R or Rstudio. \n",
    "I assume you will learn basic R commands on your own.\n",
    "\n",
    "Credit: The data and ideas behind these exercises and homeworks are from the NIH LINCS DCIC Crowdsourcing Portal and Ma’ayan Lab @ Mt Sinai, New York.\n",
    "http://www.maayanlab.net/crowdsourcing/megatask1.php\n",
    "\n",
    "The overarching goal is to predict adverse drug reactions. But we will take this task step by step. You will learn more about the meanings of these data in future lectures. For illustrative purposes in today’s class, just treat these data as numbers in a matrix."
   ]
  },
  {
   "cell_type": "markdown",
   "metadata": {},
   "source": [
    "## 1. Download and read in gene expression data (same as last week)\n",
    "Download the data “gene_expression_n438x978.txt” from canvas to your computer.  I have removed the first character (#) and an ‘ from the input file to make R happy."
   ]
  },
  {
   "cell_type": "code",
   "execution_count": 1,
   "metadata": {},
   "outputs": [
    {
     "data": {
      "text/html": [
       "'/Users/kayee/UW-Tacoma/TCSS478/kayee-winter2019/notebooks/ADR'"
      ],
      "text/latex": [
       "'/Users/kayee/UW-Tacoma/TCSS478/kayee-winter2019/notebooks/ADR'"
      ],
      "text/markdown": [
       "'/Users/kayee/UW-Tacoma/TCSS478/kayee-winter2019/notebooks/ADR'"
      ],
      "text/plain": [
       "[1] \"/Users/kayee/UW-Tacoma/TCSS478/kayee-winter2019/notebooks/ADR\""
      ]
     },
     "metadata": {},
     "output_type": "display_data"
    }
   ],
   "source": [
    "getwd()"
   ]
  },
  {
   "cell_type": "code",
   "execution_count": 2,
   "metadata": {},
   "outputs": [
    {
     "data": {
      "text/html": [
       "<table>\n",
       "<thead><tr><th></th><th scope=col>PSME1</th><th scope=col>ATF1</th><th scope=col>RHEB</th><th scope=col>FOXO3</th><th scope=col>RHOA</th><th scope=col>IL1B</th></tr></thead>\n",
       "<tbody>\n",
       "\t<tr><th scope=row>ACETAZOLAMIDE</th><td>-0.015159099 </td><td>-0.031470528 </td><td>-0.004733488 </td><td> 0.02591061  </td><td> 0.0056296773</td><td>-0.007325439 </td></tr>\n",
       "\t<tr><th scope=row>IRBESARTAN</th><td>-0.026811981 </td><td> 0.012151979 </td><td>-0.025550148 </td><td>-0.02401181  </td><td>-0.0106717396</td><td> 0.070951154 </td></tr>\n",
       "\t<tr><th scope=row>IPRATROPIUM BROMIDE</th><td> 0.001017958 </td><td>-0.008650622 </td><td>-0.018128698 </td><td>-0.02079971  </td><td>-0.0002722781</td><td> 0.025003360 </td></tr>\n",
       "\t<tr><th scope=row>EFAVIRENZ</th><td>-0.004398264 </td><td> 0.055387992 </td><td> 0.004658520 </td><td> 0.01380732  </td><td>-0.0340697348</td><td> 0.024005885 </td></tr>\n",
       "\t<tr><th scope=row>THIAMINE</th><td> 0.001838965 </td><td>-0.018079188 </td><td>-0.011855532 </td><td>-0.03705033  </td><td>-0.0133954959</td><td>-0.001752450 </td></tr>\n",
       "</tbody>\n",
       "</table>\n"
      ],
      "text/latex": [
       "\\begin{tabular}{r|llllll}\n",
       "  & PSME1 & ATF1 & RHEB & FOXO3 & RHOA & IL1B\\\\\n",
       "\\hline\n",
       "\tACETAZOLAMIDE & -0.015159099  & -0.031470528  & -0.004733488  &  0.02591061   &  0.0056296773 & -0.007325439 \\\\\n",
       "\tIRBESARTAN & -0.026811981  &  0.012151979  & -0.025550148  & -0.02401181   & -0.0106717396 &  0.070951154 \\\\\n",
       "\tIPRATROPIUM BROMIDE &  0.001017958  & -0.008650622  & -0.018128698  & -0.02079971   & -0.0002722781 &  0.025003360 \\\\\n",
       "\tEFAVIRENZ & -0.004398264  &  0.055387992  &  0.004658520  &  0.01380732   & -0.0340697348 &  0.024005885 \\\\\n",
       "\tTHIAMINE &  0.001838965  & -0.018079188  & -0.011855532  & -0.03705033   & -0.0133954959 & -0.001752450 \\\\\n",
       "\\end{tabular}\n"
      ],
      "text/markdown": [
       "\n",
       "| <!--/--> | PSME1 | ATF1 | RHEB | FOXO3 | RHOA | IL1B | \n",
       "|---|---|---|---|---|\n",
       "| ACETAZOLAMIDE | -0.015159099  | -0.031470528  | -0.004733488  |  0.02591061   |  0.0056296773 | -0.007325439  | \n",
       "| IRBESARTAN | -0.026811981  |  0.012151979  | -0.025550148  | -0.02401181   | -0.0106717396 |  0.070951154  | \n",
       "| IPRATROPIUM BROMIDE |  0.001017958  | -0.008650622  | -0.018128698  | -0.02079971   | -0.0002722781 |  0.025003360  | \n",
       "| EFAVIRENZ | -0.004398264  |  0.055387992  |  0.004658520  |  0.01380732   | -0.0340697348 |  0.024005885  | \n",
       "| THIAMINE |  0.001838965  | -0.018079188  | -0.011855532  | -0.03705033   | -0.0133954959 | -0.001752450  | \n",
       "\n",
       "\n"
      ],
      "text/plain": [
       "                    PSME1        ATF1         RHEB         FOXO3      \n",
       "ACETAZOLAMIDE       -0.015159099 -0.031470528 -0.004733488  0.02591061\n",
       "IRBESARTAN          -0.026811981  0.012151979 -0.025550148 -0.02401181\n",
       "IPRATROPIUM BROMIDE  0.001017958 -0.008650622 -0.018128698 -0.02079971\n",
       "EFAVIRENZ           -0.004398264  0.055387992  0.004658520  0.01380732\n",
       "THIAMINE             0.001838965 -0.018079188 -0.011855532 -0.03705033\n",
       "                    RHOA          IL1B        \n",
       "ACETAZOLAMIDE        0.0056296773 -0.007325439\n",
       "IRBESARTAN          -0.0106717396  0.070951154\n",
       "IPRATROPIUM BROMIDE -0.0002722781  0.025003360\n",
       "EFAVIRENZ           -0.0340697348  0.024005885\n",
       "THIAMINE            -0.0133954959 -0.001752450"
      ]
     },
     "metadata": {},
     "output_type": "display_data"
    }
   ],
   "source": [
    "my.data <- read.table (\"gene_expression_n438x978.txt\", sep=\"\\t\", header=T)\n",
    "dimnames(my.data)[[1]] <- my.data[,1]\n",
    "my.data <- my.data[, -1]\n",
    "my.data[1:5, 1:6]"
   ]
  },
  {
   "cell_type": "code",
   "execution_count": 3,
   "metadata": {},
   "outputs": [
    {
     "data": {
      "text/html": [
       "<ol class=list-inline>\n",
       "\t<li>438</li>\n",
       "\t<li>978</li>\n",
       "</ol>\n"
      ],
      "text/latex": [
       "\\begin{enumerate*}\n",
       "\\item 438\n",
       "\\item 978\n",
       "\\end{enumerate*}\n"
      ],
      "text/markdown": [
       "1. 438\n",
       "2. 978\n",
       "\n",
       "\n"
      ],
      "text/plain": [
       "[1] 438 978"
      ]
     },
     "metadata": {},
     "output_type": "display_data"
    }
   ],
   "source": [
    "dim (my.data)"
   ]
  },
  {
   "cell_type": "markdown",
   "metadata": {},
   "source": [
    "# 2. Download and read in the adverse drug reaction (0/1) data\n",
    "Download the dataset \"ADRs_HLGT_n438x232.txt\" from Canvas to your computer."
   ]
  },
  {
   "cell_type": "code",
   "execution_count": 4,
   "metadata": {},
   "outputs": [
    {
     "data": {
      "text/html": [
       "<ol class=list-inline>\n",
       "\t<li>438</li>\n",
       "\t<li>232</li>\n",
       "</ol>\n"
      ],
      "text/latex": [
       "\\begin{enumerate*}\n",
       "\\item 438\n",
       "\\item 232\n",
       "\\end{enumerate*}\n"
      ],
      "text/markdown": [
       "1. 438\n",
       "2. 232\n",
       "\n",
       "\n"
      ],
      "text/plain": [
       "[1] 438 232"
      ]
     },
     "metadata": {},
     "output_type": "display_data"
    },
    {
     "data": {
      "text/html": [
       "<table>\n",
       "<thead><tr><th></th><th scope=col>Abdominal.hernias.and.other.abdominal.wall.conditions</th><th scope=col>Abortions.and.stillbirth</th><th scope=col>Acid.base.disorders</th><th scope=col>Administration.site.reactions</th><th scope=col>Adrenal.gland.disorders</th><th scope=col>Age.related.factors</th></tr></thead>\n",
       "<tbody>\n",
       "\t<tr><th scope=row>ACETAZOLAMIDE</th><td>0</td><td>0</td><td>1</td><td>1</td><td>0</td><td>0</td></tr>\n",
       "\t<tr><th scope=row>IRBESARTAN</th><td>0</td><td>0</td><td>0</td><td>0</td><td>1</td><td>0</td></tr>\n",
       "\t<tr><th scope=row>IPRATROPIUM BROMIDE</th><td>0</td><td>0</td><td>0</td><td>0</td><td>1</td><td>0</td></tr>\n",
       "\t<tr><th scope=row>EFAVIRENZ</th><td>0</td><td>0</td><td>0</td><td>0</td><td>1</td><td>1</td></tr>\n",
       "\t<tr><th scope=row>THIAMINE</th><td>0</td><td>0</td><td>0</td><td>0</td><td>0</td><td>0</td></tr>\n",
       "</tbody>\n",
       "</table>\n"
      ],
      "text/latex": [
       "\\begin{tabular}{r|llllll}\n",
       "  & Abdominal.hernias.and.other.abdominal.wall.conditions & Abortions.and.stillbirth & Acid.base.disorders & Administration.site.reactions & Adrenal.gland.disorders & Age.related.factors\\\\\n",
       "\\hline\n",
       "\tACETAZOLAMIDE & 0 & 0 & 1 & 1 & 0 & 0\\\\\n",
       "\tIRBESARTAN & 0 & 0 & 0 & 0 & 1 & 0\\\\\n",
       "\tIPRATROPIUM BROMIDE & 0 & 0 & 0 & 0 & 1 & 0\\\\\n",
       "\tEFAVIRENZ & 0 & 0 & 0 & 0 & 1 & 1\\\\\n",
       "\tTHIAMINE & 0 & 0 & 0 & 0 & 0 & 0\\\\\n",
       "\\end{tabular}\n"
      ],
      "text/markdown": [
       "\n",
       "| <!--/--> | Abdominal.hernias.and.other.abdominal.wall.conditions | Abortions.and.stillbirth | Acid.base.disorders | Administration.site.reactions | Adrenal.gland.disorders | Age.related.factors | \n",
       "|---|---|---|---|---|\n",
       "| ACETAZOLAMIDE | 0 | 0 | 1 | 1 | 0 | 0 | \n",
       "| IRBESARTAN | 0 | 0 | 0 | 0 | 1 | 0 | \n",
       "| IPRATROPIUM BROMIDE | 0 | 0 | 0 | 0 | 1 | 0 | \n",
       "| EFAVIRENZ | 0 | 0 | 0 | 0 | 1 | 1 | \n",
       "| THIAMINE | 0 | 0 | 0 | 0 | 0 | 0 | \n",
       "\n",
       "\n"
      ],
      "text/plain": [
       "                    Abdominal.hernias.and.other.abdominal.wall.conditions\n",
       "ACETAZOLAMIDE       0                                                    \n",
       "IRBESARTAN          0                                                    \n",
       "IPRATROPIUM BROMIDE 0                                                    \n",
       "EFAVIRENZ           0                                                    \n",
       "THIAMINE            0                                                    \n",
       "                    Abortions.and.stillbirth Acid.base.disorders\n",
       "ACETAZOLAMIDE       0                        1                  \n",
       "IRBESARTAN          0                        0                  \n",
       "IPRATROPIUM BROMIDE 0                        0                  \n",
       "EFAVIRENZ           0                        0                  \n",
       "THIAMINE            0                        0                  \n",
       "                    Administration.site.reactions Adrenal.gland.disorders\n",
       "ACETAZOLAMIDE       1                             0                      \n",
       "IRBESARTAN          0                             1                      \n",
       "IPRATROPIUM BROMIDE 0                             1                      \n",
       "EFAVIRENZ           0                             1                      \n",
       "THIAMINE            0                             0                      \n",
       "                    Age.related.factors\n",
       "ACETAZOLAMIDE       0                  \n",
       "IRBESARTAN          0                  \n",
       "IPRATROPIUM BROMIDE 0                  \n",
       "EFAVIRENZ           1                  \n",
       "THIAMINE            0                  "
      ]
     },
     "metadata": {},
     "output_type": "display_data"
    }
   ],
   "source": [
    "adr.mat <- read.table (\"ADRs_HLGT_n438x232.txt\", sep=\"\\t\", header=T)\n",
    "dimnames(adr.mat)[[1]] <- adr.mat [, 1]\n",
    "adr.mat <- adr.mat[, -1]\n",
    "dim (adr.mat)\n",
    "adr.mat[1:5, 1:6]"
   ]
  },
  {
   "cell_type": "markdown",
   "metadata": {},
   "source": [
    "## 3. Your task: how would you explore this adr.mat matrix? This is a binary matrix. How sparse is this matrix?"
   ]
  },
  {
   "cell_type": "code",
   "execution_count": 4,
   "metadata": {
    "collapsed": true
   },
   "outputs": [],
   "source": []
  },
  {
   "cell_type": "code",
   "execution_count": null,
   "metadata": {
    "collapsed": true
   },
   "outputs": [],
   "source": []
  },
  {
   "cell_type": "code",
   "execution_count": null,
   "metadata": {
    "collapsed": true
   },
   "outputs": [],
   "source": []
  },
  {
   "cell_type": "markdown",
   "metadata": {},
   "source": [
    "## 4. Exercise (for home): Exercise: are there any side effects that are not associated with any of the 438 drugs? What is the average number of drugs associated with each side effects?"
   ]
  },
  {
   "cell_type": "code",
   "execution_count": null,
   "metadata": {
    "collapsed": true
   },
   "outputs": [],
   "source": []
  },
  {
   "cell_type": "code",
   "execution_count": null,
   "metadata": {
    "collapsed": true
   },
   "outputs": [],
   "source": []
  },
  {
   "cell_type": "markdown",
   "metadata": {},
   "source": [
    "# 5. Logistic regression"
   ]
  },
  {
   "cell_type": "markdown",
   "metadata": {},
   "source": [
    "## Is CDK1 predictive of heart failures?"
   ]
  },
  {
   "cell_type": "code",
   "execution_count": null,
   "metadata": {
    "collapsed": true
   },
   "outputs": [],
   "source": []
  },
  {
   "cell_type": "code",
   "execution_count": null,
   "metadata": {
    "collapsed": true
   },
   "outputs": [],
   "source": []
  },
  {
   "cell_type": "code",
   "execution_count": null,
   "metadata": {
    "collapsed": true
   },
   "outputs": [],
   "source": []
  }
 ],
 "metadata": {
  "kernelspec": {
   "display_name": "R",
   "language": "R",
   "name": "ir"
  },
  "language_info": {
   "codemirror_mode": "r",
   "file_extension": ".r",
   "mimetype": "text/x-r-source",
   "name": "R",
   "pygments_lexer": "r",
   "version": "3.5.2"
  }
 },
 "nbformat": 4,
 "nbformat_minor": 2
}
